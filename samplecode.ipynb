{
 "cells": [
  {
   "cell_type": "markdown",
   "metadata": {},
   "source": [
    "# sample code of ENAN (ENrichment ANalyses)"
   ]
  },
  {
   "cell_type": "markdown",
   "metadata": {},
   "source": [
    "***\n",
    "# ■ Fisher's Exact Test (FET)"
   ]
  },
  {
   "cell_type": "code",
   "execution_count": 2,
   "metadata": {},
   "outputs": [
    {
     "name": "stdout",
     "output_type": "stream",
     "text": [
      "generate test data as follows:\n",
      "    ref: dict, {\"XXXX\":{\"aa\",\"bb\"},\"YYYY\":{\"cc\",\"dd\",\"ee\"},...}\n",
      "    obj: set, {\"aa\",\"bb\",\"cc\"}\n"
     ]
    },
    {
     "data": {
      "text/html": [
       "<div>\n",
       "<style scoped>\n",
       "    .dataframe tbody tr th:only-of-type {\n",
       "        vertical-align: middle;\n",
       "    }\n",
       "\n",
       "    .dataframe tbody tr th {\n",
       "        vertical-align: top;\n",
       "    }\n",
       "\n",
       "    .dataframe thead th {\n",
       "        text-align: right;\n",
       "    }\n",
       "</style>\n",
       "<table border=\"1\" class=\"dataframe\">\n",
       "  <thead>\n",
       "    <tr style=\"text-align: right;\">\n",
       "      <th></th>\n",
       "      <th>p value</th>\n",
       "      <th>adjusted p value</th>\n",
       "      <th>overlap</th>\n",
       "      <th>hit No.</th>\n",
       "      <th>total No.</th>\n",
       "    </tr>\n",
       "  </thead>\n",
       "  <tbody>\n",
       "    <tr>\n",
       "      <th>rKjCm</th>\n",
       "      <td>0.000003</td>\n",
       "      <td>0.000026</td>\n",
       "      <td>{1, 2, 3, 4, 5, 6, 7}</td>\n",
       "      <td>7</td>\n",
       "      <td>7</td>\n",
       "    </tr>\n",
       "    <tr>\n",
       "      <th>dWuJZ</th>\n",
       "      <td>0.466997</td>\n",
       "      <td>0.996546</td>\n",
       "      <td>{2, 3, 4, 6, 9}</td>\n",
       "      <td>5</td>\n",
       "      <td>20</td>\n",
       "    </tr>\n",
       "    <tr>\n",
       "      <th>BDDoW</th>\n",
       "      <td>0.495478</td>\n",
       "      <td>0.996546</td>\n",
       "      <td>{9, 2, 5, 7}</td>\n",
       "      <td>4</td>\n",
       "      <td>16</td>\n",
       "    </tr>\n",
       "    <tr>\n",
       "      <th>PnpqU</th>\n",
       "      <td>0.659299</td>\n",
       "      <td>0.996546</td>\n",
       "      <td>{1, 5, 9}</td>\n",
       "      <td>3</td>\n",
       "      <td>14</td>\n",
       "    </tr>\n",
       "    <tr>\n",
       "      <th>MdLXw</th>\n",
       "      <td>0.767673</td>\n",
       "      <td>0.996546</td>\n",
       "      <td>{8, 1, 9}</td>\n",
       "      <td>3</td>\n",
       "      <td>16</td>\n",
       "    </tr>\n",
       "  </tbody>\n",
       "</table>\n",
       "</div>"
      ],
      "text/plain": [
       "        p value  adjusted p value                overlap  hit No.  total No.\n",
       "rKjCm  0.000003          0.000026  {1, 2, 3, 4, 5, 6, 7}        7          7\n",
       "dWuJZ  0.466997          0.996546        {2, 3, 4, 6, 9}        5         20\n",
       "BDDoW  0.495478          0.996546           {9, 2, 5, 7}        4         16\n",
       "PnpqU  0.659299          0.996546              {1, 5, 9}        3         14\n",
       "MdLXw  0.767673          0.996546              {8, 1, 9}        3         16"
      ]
     },
     "execution_count": 2,
     "metadata": {},
     "output_type": "execute_result"
    }
   ],
   "source": [
    "from enan import FET\n",
    "\n",
    "dat = FET() # generate an instance\n",
    "ref,obj = dat.generate_test_data() # generate test data\n",
    "dat.fit(ref) # load reference\n",
    "res = dat.calc(obj) # analyze data of interest\n",
    "res.head()"
   ]
  },
  {
   "cell_type": "code",
   "execution_count": 3,
   "metadata": {},
   "outputs": [
    {
     "name": "stdout",
     "output_type": "stream",
     "text": [
      "!! Wrong keyword !!\n",
      "perhaps: {'rKjCm'}\n",
      "----------------------------\n",
      "rKjCm: {1, 2, 3, 4, 5, 6, 7}\n"
     ]
    }
   ],
   "source": [
    "dat.check_ref(\"rK\") # check reference data -> suggest related keys if failed\n",
    "print(\"----------------------------\")\n",
    "dat.check_ref(\"rKjCm\") # return the members of the indicated key"
   ]
  },
  {
   "cell_type": "code",
   "execution_count": 4,
   "metadata": {},
   "outputs": [
    {
     "data": {
      "image/png": "[encoded data removed]",
      "text/plain": [
       "<Figure size 432x288 with 1 Axes>"
      ]
     },
     "metadata": {
      "needs_background": "light"
     },
     "output_type": "display_data"
    }
   ],
   "source": [
    "dat.plot(focus=5,thresh=0.05) # plot data satisfying the threshold from the top to the focused"
   ]
  },
  {
   "cell_type": "markdown",
   "metadata": {},
   "source": [
    "***\n",
    "# ■ Binomial Test (BT)\n",
    "procedures are almost the same with those of FET"
   ]
  },
  {
   "cell_type": "code",
   "execution_count": 6,
   "metadata": {},
   "outputs": [
    {
     "name": "stdout",
     "output_type": "stream",
     "text": [
      "generate test data as follows:\n",
      "    ref: dict, {\"XXXX\":{\"aa\",\"bb\"},\"YYYY\":{\"cc\",\"dd\",\"ee\"},...}\n",
      "    obj: set, {\"aa\",\"bb\",\"cc\"}\n"
     ]
    },
    {
     "data": {
      "text/html": [
       "<div>\n",
       "<style scoped>\n",
       "    .dataframe tbody tr th:only-of-type {\n",
       "        vertical-align: middle;\n",
       "    }\n",
       "\n",
       "    .dataframe tbody tr th {\n",
       "        vertical-align: top;\n",
       "    }\n",
       "\n",
       "    .dataframe thead th {\n",
       "        text-align: right;\n",
       "    }\n",
       "</style>\n",
       "<table border=\"1\" class=\"dataframe\">\n",
       "  <thead>\n",
       "    <tr style=\"text-align: right;\">\n",
       "      <th></th>\n",
       "      <th>p value</th>\n",
       "      <th>adjusted p value</th>\n",
       "      <th>overlap</th>\n",
       "      <th>hit No.</th>\n",
       "      <th>total No.</th>\n",
       "    </tr>\n",
       "  </thead>\n",
       "  <tbody>\n",
       "    <tr>\n",
       "      <th>TvFHm</th>\n",
       "      <td>9.176880e-07</td>\n",
       "      <td>0.000008</td>\n",
       "      <td>{1, 2, 3, 4, 5, 6, 7}</td>\n",
       "      <td>7</td>\n",
       "      <td>7</td>\n",
       "    </tr>\n",
       "    <tr>\n",
       "      <th>tIInW</th>\n",
       "      <td>7.446204e-01</td>\n",
       "      <td>0.999392</td>\n",
       "      <td>{4}</td>\n",
       "      <td>1</td>\n",
       "      <td>8</td>\n",
       "    </tr>\n",
       "    <tr>\n",
       "      <th>WFBgE</th>\n",
       "      <td>7.837387e-01</td>\n",
       "      <td>0.999392</td>\n",
       "      <td>{8, 9, 5}</td>\n",
       "      <td>3</td>\n",
       "      <td>14</td>\n",
       "    </tr>\n",
       "    <tr>\n",
       "      <th>qJYGx</th>\n",
       "      <td>8.811604e-01</td>\n",
       "      <td>0.999392</td>\n",
       "      <td>{3, 4}</td>\n",
       "      <td>2</td>\n",
       "      <td>13</td>\n",
       "    </tr>\n",
       "    <tr>\n",
       "      <th>XcqyM</th>\n",
       "      <td>9.609768e-01</td>\n",
       "      <td>0.999392</td>\n",
       "      <td>{8, 4}</td>\n",
       "      <td>2</td>\n",
       "      <td>15</td>\n",
       "    </tr>\n",
       "  </tbody>\n",
       "</table>\n",
       "</div>"
      ],
      "text/plain": [
       "            p value  adjusted p value                overlap  hit No.  \\\n",
       "TvFHm  9.176880e-07          0.000008  {1, 2, 3, 4, 5, 6, 7}        7   \n",
       "tIInW  7.446204e-01          0.999392                    {4}        1   \n",
       "WFBgE  7.837387e-01          0.999392              {8, 9, 5}        3   \n",
       "qJYGx  8.811604e-01          0.999392                 {3, 4}        2   \n",
       "XcqyM  9.609768e-01          0.999392                 {8, 4}        2   \n",
       "\n",
       "       total No.  \n",
       "TvFHm          7  \n",
       "tIInW          8  \n",
       "WFBgE         14  \n",
       "qJYGx         13  \n",
       "XcqyM         15  "
      ]
     },
     "execution_count": 6,
     "metadata": {},
     "output_type": "execute_result"
    }
   ],
   "source": [
    "from enan import BT\n",
    "\n",
    "dat = BT() # generate an instance\n",
    "ref,obj = dat.generate_test_data() # generate test data\n",
    "dat.fit(ref) # load reference\n",
    "res = dat.calc(obj) # analyze data of interest\n",
    "res.head()"
   ]
  },
  {
   "cell_type": "code",
   "execution_count": 7,
   "metadata": {},
   "outputs": [
    {
     "data": {
      "image/png": "[encoded data removed]",
      "text/plain": [
       "<Figure size 432x288 with 1 Axes>"
      ]
     },
     "metadata": {
      "needs_background": "light"
     },
     "output_type": "display_data"
    }
   ],
   "source": [
    "dat.plot(focus=5,thresh=0.05) # plot data satisfying the threshold from the top to the focused"
   ]
  },
  {
   "cell_type": "markdown",
   "metadata": {},
   "source": [
    "***\n",
    "# GSEA"
   ]
  },
  {
   "cell_type": "code",
   "execution_count": 3,
   "metadata": {},
   "outputs": [
    {
     "name": "stdout",
     "output_type": "stream",
     "text": [
      "generate test data as follows:\n",
      "    ref: dict, {\"XXXX\":{\"aa\",\"bb\"},\"YYYY\":{\"cc\",\"dd\",\"ee\"},...}\n",
      "    obj: dataframe, feature x sample\n",
      "Standard method\n"
     ]
    },
    {
     "data": {
      "text/html": [
       "<div>\n",
       "<style scoped>\n",
       "    .dataframe tbody tr th:only-of-type {\n",
       "        vertical-align: middle;\n",
       "    }\n",
       "\n",
       "    .dataframe tbody tr th {\n",
       "        vertical-align: top;\n",
       "    }\n",
       "\n",
       "    .dataframe thead th {\n",
       "        text-align: right;\n",
       "    }\n",
       "</style>\n",
       "<table border=\"1\" class=\"dataframe\">\n",
       "  <thead>\n",
       "    <tr style=\"text-align: right;\">\n",
       "      <th></th>\n",
       "      <th>xxxx</th>\n",
       "      <th>yyyy</th>\n",
       "      <th>zzzz</th>\n",
       "    </tr>\n",
       "  </thead>\n",
       "  <tbody>\n",
       "    <tr>\n",
       "      <th>GGexN</th>\n",
       "      <td>0.361196</td>\n",
       "      <td>0.250147</td>\n",
       "      <td>0.314963</td>\n",
       "    </tr>\n",
       "    <tr>\n",
       "      <th>vcuYL</th>\n",
       "      <td>0.208759</td>\n",
       "      <td>0.163341</td>\n",
       "      <td>0.137357</td>\n",
       "    </tr>\n",
       "    <tr>\n",
       "      <th>iDUSR</th>\n",
       "      <td>0.203050</td>\n",
       "      <td>0.125603</td>\n",
       "      <td>0.127981</td>\n",
       "    </tr>\n",
       "    <tr>\n",
       "      <th>Kejkt</th>\n",
       "      <td>0.198315</td>\n",
       "      <td>0.101367</td>\n",
       "      <td>0.137976</td>\n",
       "    </tr>\n",
       "    <tr>\n",
       "      <th>nZlJv</th>\n",
       "      <td>0.191918</td>\n",
       "      <td>0.090041</td>\n",
       "      <td>0.117188</td>\n",
       "    </tr>\n",
       "  </tbody>\n",
       "</table>\n",
       "</div>"
      ],
      "text/plain": [
       "           xxxx      yyyy      zzzz\n",
       "GGexN  0.361196  0.250147  0.314963\n",
       "vcuYL  0.208759  0.163341  0.137357\n",
       "iDUSR  0.203050  0.125603  0.127981\n",
       "Kejkt  0.198315  0.101367  0.137976\n",
       "nZlJv  0.191918  0.090041  0.117188"
      ]
     },
     "execution_count": 3,
     "metadata": {},
     "output_type": "execute_result"
    }
   ],
   "source": [
    "from enan import GSEA\n",
    "\n",
    "dat = GSEA() # generate an instance\n",
    "ref,obj = dat.generate_test_data() # generate test data\n",
    "dat.fit(ref) # load reference\n",
    "res = dat.calc(obj) # analyze data of interest\n",
    "res.head()"
   ]
  },
  {
   "cell_type": "code",
   "execution_count": 6,
   "metadata": {},
   "outputs": [
    {
     "data": {
      "image/png": "[encoded data removed]",
      "text/plain": [
       "<Figure size 432x288 with 1 Axes>"
      ]
     },
     "metadata": {
      "needs_background": "light"
     },
     "output_type": "display_data"
    }
   ],
   "source": [
    "dat.plot(sample_name=\"xxxx\",highlight=[\"GGexN\",\"vcuYL\"])\n",
    "# plot data satisfying the threshold from the top to the focused"
   ]
  },
  {
   "cell_type": "code",
   "execution_count": 7,
   "metadata": {},
   "outputs": [
    {
     "data": {
      "image/png": "[encoded data removed]",
      "text/plain": [
       "<Figure size 432x432 with 3 Axes>"
      ]
     },
     "metadata": {
      "needs_background": "light"
     },
     "output_type": "display_data"
    }
   ],
   "source": [
    "dat.plot_running(sample_name=\"xxxx\",fterm=\"GGexN\")"
   ]
  },
  {
   "cell_type": "markdown",
   "metadata": {},
   "source": [
    "***\n",
    "# ssGSEA"
   ]
  },
  {
   "cell_type": "code",
   "execution_count": 11,
   "metadata": {},
   "outputs": [
    {
     "name": "stdout",
     "output_type": "stream",
     "text": [
      "generate test data as follows:\n",
      "    ref: dict, {\"XXXX\":{\"aa\",\"bb\"},\"YYYY\":{\"cc\",\"dd\",\"ee\"},...}\n",
      "    obj: dataframe, feature x sample\n",
      "Standard method\n"
     ]
    },
    {
     "name": "stderr",
     "output_type": "stream",
     "text": [
      "100%|███████████████████████████████████████████████████████████████████████████████| 10/10 [00:00<00:00, 20.27it/s]\n"
     ]
    },
    {
     "data": {
      "text/html": [
       "<div>\n",
       "<style scoped>\n",
       "    .dataframe tbody tr th:only-of-type {\n",
       "        vertical-align: middle;\n",
       "    }\n",
       "\n",
       "    .dataframe tbody tr th {\n",
       "        vertical-align: top;\n",
       "    }\n",
       "\n",
       "    .dataframe thead th {\n",
       "        text-align: right;\n",
       "    }\n",
       "</style>\n",
       "<table border=\"1\" class=\"dataframe\">\n",
       "  <thead>\n",
       "    <tr style=\"text-align: right;\">\n",
       "      <th></th>\n",
       "      <th>control_1</th>\n",
       "      <th>control_2</th>\n",
       "      <th>control_3</th>\n",
       "      <th>control_4</th>\n",
       "      <th>control_5</th>\n",
       "      <th>treated_1</th>\n",
       "      <th>treated_2</th>\n",
       "      <th>treated_3</th>\n",
       "      <th>treated_4</th>\n",
       "      <th>treated_5</th>\n",
       "    </tr>\n",
       "  </thead>\n",
       "  <tbody>\n",
       "    <tr>\n",
       "      <th>Odymx</th>\n",
       "      <td>0.350066</td>\n",
       "      <td>0.299099</td>\n",
       "      <td>0.190180</td>\n",
       "      <td>0.358368</td>\n",
       "      <td>0.202534</td>\n",
       "      <td>0.181695</td>\n",
       "      <td>0.228864</td>\n",
       "      <td>0.211595</td>\n",
       "      <td>0.177743</td>\n",
       "      <td>0.197845</td>\n",
       "    </tr>\n",
       "    <tr>\n",
       "      <th>CLZdt</th>\n",
       "      <td>0.345565</td>\n",
       "      <td>0.216658</td>\n",
       "      <td>0.316990</td>\n",
       "      <td>0.299040</td>\n",
       "      <td>0.340138</td>\n",
       "      <td>0.515505</td>\n",
       "      <td>0.276230</td>\n",
       "      <td>0.330155</td>\n",
       "      <td>0.467627</td>\n",
       "      <td>0.238005</td>\n",
       "    </tr>\n",
       "    <tr>\n",
       "      <th>kjxIV</th>\n",
       "      <td>0.264887</td>\n",
       "      <td>0.228869</td>\n",
       "      <td>0.196756</td>\n",
       "      <td>0.274907</td>\n",
       "      <td>0.218850</td>\n",
       "      <td>0.190553</td>\n",
       "      <td>0.145530</td>\n",
       "      <td>0.183390</td>\n",
       "      <td>0.098825</td>\n",
       "      <td>0.118676</td>\n",
       "    </tr>\n",
       "    <tr>\n",
       "      <th>zBOxg</th>\n",
       "      <td>0.198033</td>\n",
       "      <td>0.142068</td>\n",
       "      <td>0.267291</td>\n",
       "      <td>0.216559</td>\n",
       "      <td>0.281787</td>\n",
       "      <td>0.161791</td>\n",
       "      <td>0.224328</td>\n",
       "      <td>0.188766</td>\n",
       "      <td>0.195452</td>\n",
       "      <td>0.174001</td>\n",
       "    </tr>\n",
       "    <tr>\n",
       "      <th>bXpMK</th>\n",
       "      <td>0.187019</td>\n",
       "      <td>0.145662</td>\n",
       "      <td>0.273769</td>\n",
       "      <td>0.168907</td>\n",
       "      <td>0.117126</td>\n",
       "      <td>0.157418</td>\n",
       "      <td>0.145819</td>\n",
       "      <td>0.181998</td>\n",
       "      <td>0.113103</td>\n",
       "      <td>0.232782</td>\n",
       "    </tr>\n",
       "  </tbody>\n",
       "</table>\n",
       "</div>"
      ],
      "text/plain": [
       "       control_1  control_2  control_3  control_4  control_5  treated_1  \\\n",
       "Odymx   0.350066   0.299099   0.190180   0.358368   0.202534   0.181695   \n",
       "CLZdt   0.345565   0.216658   0.316990   0.299040   0.340138   0.515505   \n",
       "kjxIV   0.264887   0.228869   0.196756   0.274907   0.218850   0.190553   \n",
       "zBOxg   0.198033   0.142068   0.267291   0.216559   0.281787   0.161791   \n",
       "bXpMK   0.187019   0.145662   0.273769   0.168907   0.117126   0.157418   \n",
       "\n",
       "       treated_2  treated_3  treated_4  treated_5  \n",
       "Odymx   0.228864   0.211595   0.177743   0.197845  \n",
       "CLZdt   0.276230   0.330155   0.467627   0.238005  \n",
       "kjxIV   0.145530   0.183390   0.098825   0.118676  \n",
       "zBOxg   0.224328   0.188766   0.195452   0.174001  \n",
       "bXpMK   0.145819   0.181998   0.113103   0.232782  "
      ]
     },
     "execution_count": 11,
     "metadata": {},
     "output_type": "execute_result"
    }
   ],
   "source": [
    "from enan import ssGSEA\n",
    "\n",
    "dat = ssGSEA() # generate an instance\n",
    "ref,obj = dat.generate_test_data() # generate test data\n",
    "dat.fit(ref) # load reference\n",
    "res = dat.calc(obj) # analyze data of interest\n",
    "res.head()"
   ]
  },
  {
   "cell_type": "code",
   "execution_count": 12,
   "metadata": {},
   "outputs": [
    {
     "data": {
      "image/png": "[encoded data removed]",
      "text/plain": [
       "<Figure size 288x288 with 1 Axes>"
      ]
     },
     "metadata": {
      "needs_background": "light"
     },
     "output_type": "display_data"
    }
   ],
   "source": [
    "dat.plot(keyword=[\"control\",\"treated\"],\n",
    "         fterm=\"Odymx\",figsize=(4,4)) # plot data satisfying the threshold from the top to the focused"
   ]
  },
  {
   "cell_type": "markdown",
   "metadata": {},
   "source": [
    "***\n",
    "# Connect\n",
    "connectivity analysis"
   ]
  },
  {
   "cell_type": "code",
   "execution_count": 13,
   "metadata": {},
   "outputs": [
    {
     "name": "stdout",
     "output_type": "stream",
     "text": [
      "generate test data as follows:\n",
      "    ref: dict, {\"XXXX\":({\"aa\",\"bb\"},{\"cc\",\"dd\",\"ee\"}),...}\n",
      "    obj: dataframe, feature x sample\n"
     ]
    },
    {
     "data": {
      "text/html": [
       "<div>\n",
       "<style scoped>\n",
       "    .dataframe tbody tr th:only-of-type {\n",
       "        vertical-align: middle;\n",
       "    }\n",
       "\n",
       "    .dataframe tbody tr th {\n",
       "        vertical-align: top;\n",
       "    }\n",
       "\n",
       "    .dataframe thead th {\n",
       "        text-align: right;\n",
       "    }\n",
       "</style>\n",
       "<table border=\"1\" class=\"dataframe\">\n",
       "  <thead>\n",
       "    <tr style=\"text-align: right;\">\n",
       "      <th></th>\n",
       "      <th>xxxx</th>\n",
       "      <th>yyyy</th>\n",
       "      <th>zzzz</th>\n",
       "    </tr>\n",
       "  </thead>\n",
       "  <tbody>\n",
       "    <tr>\n",
       "      <th>naAdB</th>\n",
       "      <td>0.151503</td>\n",
       "      <td>0.245239</td>\n",
       "      <td>1.000000</td>\n",
       "    </tr>\n",
       "    <tr>\n",
       "      <th>UkuPL</th>\n",
       "      <td>0.133126</td>\n",
       "      <td>0.208819</td>\n",
       "      <td>0.000000</td>\n",
       "    </tr>\n",
       "    <tr>\n",
       "      <th>rPpNW</th>\n",
       "      <td>0.191127</td>\n",
       "      <td>0.000000</td>\n",
       "      <td>0.167593</td>\n",
       "    </tr>\n",
       "    <tr>\n",
       "      <th>ryNqO</th>\n",
       "      <td>-0.318979</td>\n",
       "      <td>0.000000</td>\n",
       "      <td>0.000000</td>\n",
       "    </tr>\n",
       "    <tr>\n",
       "      <th>fHiuF</th>\n",
       "      <td>0.000000</td>\n",
       "      <td>0.000000</td>\n",
       "      <td>0.000000</td>\n",
       "    </tr>\n",
       "  </tbody>\n",
       "</table>\n",
       "</div>"
      ],
      "text/plain": [
       "           xxxx      yyyy      zzzz\n",
       "naAdB  0.151503  0.245239  1.000000\n",
       "UkuPL  0.133126  0.208819  0.000000\n",
       "rPpNW  0.191127  0.000000  0.167593\n",
       "ryNqO -0.318979  0.000000  0.000000\n",
       "fHiuF  0.000000  0.000000  0.000000"
      ]
     },
     "execution_count": 13,
     "metadata": {},
     "output_type": "execute_result"
    }
   ],
   "source": [
    "from enan import Connect\n",
    "\n",
    "dat = Connect() # generate an instance\n",
    "ref,obj = dat.generate_test_data() # generate test data\n",
    "dat.fit(ref) # load reference\n",
    "res = dat.calc(obj) # analyze data of interest\n",
    "res.head()"
   ]
  },
  {
   "cell_type": "code",
   "execution_count": 14,
   "metadata": {},
   "outputs": [
    {
     "data": {
      "image/png": "[encoded data removed]",
      "text/plain": [
       "<Figure size 432x288 with 1 Axes>"
      ]
     },
     "metadata": {},
     "output_type": "display_data"
    }
   ],
   "source": [
    "dat.plot(sample_name=\"zzzz\",\n",
    "         highlight=[\"naAdB\",\"rPpNW\"]) # plot data satisfying the threshold from the top to the focused"
   ]
  }
 ],
 "metadata": {
  "interpreter": {
   "hash": "4033fa1e5a7c5fd878b8ff6704629822f6714af0b54048e9d433520e879d55d1"
  },
  "kernelspec": {
   "display_name": "Python 3.9.5 64-bit ('pipenv': conda)",
   "name": "python3"
  },
  "language_info": {
   "codemirror_mode": {
    "name": "ipython",
    "version": 3
   },
   "file_extension": ".py",
   "mimetype": "text/x-python",
   "name": "python",
   "nbconvert_exporter": "python",
   "pygments_lexer": "ipython3",
   "version": "3.9.5"
  }
 },
 "nbformat": 4,
 "nbformat_minor": 4
}
